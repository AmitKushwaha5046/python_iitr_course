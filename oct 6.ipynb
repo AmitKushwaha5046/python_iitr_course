{
 "cells": [
  {
   "cell_type": "code",
   "execution_count": 2,
   "metadata": {},
   "outputs": [
    {
     "data": {
      "text/plain": [
       "4"
      ]
     },
     "execution_count": 2,
     "metadata": {},
     "output_type": "execute_result"
    }
   ],
   "source": [
    "1+3"
   ]
  },
  {
   "cell_type": "code",
   "execution_count": 3,
   "metadata": {},
   "outputs": [
    {
     "name": "stdout",
     "output_type": "stream",
     "text": [
      "10\n"
     ]
    }
   ],
   "source": [
    "x = 10\n",
    "print(x)"
   ]
  },
  {
   "cell_type": "code",
   "execution_count": 4,
   "metadata": {},
   "outputs": [
    {
     "name": "stdout",
     "output_type": "stream",
     "text": [
      "200.0\n"
     ]
    }
   ],
   "source": [
    "p = 1000\n",
    "r = 10\n",
    "t = 2\n",
    "print(p*r*t/100)"
   ]
  },
  {
   "cell_type": "code",
   "execution_count": 6,
   "metadata": {},
   "outputs": [],
   "source": [
    "import math"
   ]
  },
  {
   "cell_type": "code",
   "execution_count": 11,
   "metadata": {},
   "outputs": [
    {
     "name": "stdout",
     "output_type": "stream",
     "text": [
      "Hypotenuse:  5.0\n"
     ]
    }
   ],
   "source": [
    "base = 3\n",
    "perp = 4\n",
    "hyp = math.sqrt(base*base +perp*perp)\n",
    "print(\"Hypotenuse: \", hyp)"
   ]
  },
  {
   "cell_type": "code",
   "execution_count": 21,
   "metadata": {
    "scrolled": true
   },
   "outputs": [
    {
     "name": "stdout",
     "output_type": "stream",
     "text": [
      "7.280109889280518\n"
     ]
    }
   ],
   "source": [
    "# Problem: \n",
    "x1, y1 = 10, 20\n",
    "x2, y2 = 12, 13\n",
    "\n",
    "'''\n",
    "The way to think about \n",
    "it is using the triangle visuals\n",
    "and we basicall\n",
    "'''\n",
    "d = math.sqrt((x2-x1)**2+(y2-y1)**2)\n",
    "print(d)"
   ]
  },
  {
   "cell_type": "code",
   "execution_count": 22,
   "metadata": {},
   "outputs": [
    {
     "name": "stdout",
     "output_type": "stream",
     "text": [
      "7.280109889280518\n"
     ]
    }
   ],
   "source": [
    "# Problem: \n",
    "x1, y1 = 10, 20\n",
    "x2, y2 = 12, 13\n",
    "\n",
    "'''\n",
    "The way to think about \n",
    "it is using the triangle visuals\n",
    "and we basicall\n",
    "'''\n",
    "base = x2 - x1\n",
    "perp = y2 - y1\n",
    "\n",
    "d = math.sqrt(base*base +perp*perp)\n",
    "print(d)"
   ]
  },
  {
   "cell_type": "code",
   "execution_count": 16,
   "metadata": {},
   "outputs": [],
   "source": [
    "# this is the comment\n",
    "\n",
    "x = 10"
   ]
  },
  {
   "cell_type": "code",
   "execution_count": 17,
   "metadata": {},
   "outputs": [],
   "source": [
    "fname = \"Sandeep\"\n",
    "lname = 'Giri'\n",
    "descrption = '''He is someone who lives in India and Canda.\n",
    "He has a family.\n",
    "He run cloudxlab.\n",
    "He is passionate about coding\n",
    "'''"
   ]
  },
  {
   "cell_type": "code",
   "execution_count": 20,
   "metadata": {},
   "outputs": [
    {
     "name": "stdout",
     "output_type": "stream",
     "text": [
      "Sandeep Giri He is someone who lives in India and Canda.\n",
      "He has a family.\n",
      "He run cloudxlab.\n",
      "He is passionate about coding\n",
      "\n"
     ]
    }
   ],
   "source": [
    "print(fname, lname, descrption)"
   ]
  },
  {
   "cell_type": "code",
   "execution_count": null,
   "metadata": {},
   "outputs": [],
   "source": [
    "# FInd the distance between the two points\n",
    "\n",
    "x1, y1, z1 = 10, 20, 30\n",
    "x2, y2, z2 = 2, 3, 4\n",
    "print(\"Distance: \")"
   ]
  },
  {
   "cell_type": "code",
   "execution_count": 23,
   "metadata": {},
   "outputs": [
    {
     "data": {
      "text/plain": [
       "'\\nThe way to think about \\nit is using the triangle visuals\\nand we basicall\\n'"
      ]
     },
     "execution_count": 23,
     "metadata": {},
     "output_type": "execute_result"
    }
   ],
   "source": [
    "\"\"\"\n",
    "The way to think about \n",
    "it is using the triangle visuals\n",
    "and we basicall\n",
    "\"\"\""
   ]
  },
  {
   "cell_type": "code",
   "execution_count": 24,
   "metadata": {},
   "outputs": [
    {
     "data": {
      "text/plain": [
       "'\\nThe way to think about \\nit is using the triangle visuals\\nand we basicall\\n'"
      ]
     },
     "execution_count": 24,
     "metadata": {},
     "output_type": "execute_result"
    }
   ],
   "source": [
    "'''\n",
    "The way to think about \n",
    "it is using the triangle visuals\n",
    "and we basicall\n",
    "'''"
   ]
  },
  {
   "cell_type": "code",
   "execution_count": 25,
   "metadata": {},
   "outputs": [],
   "source": [
    "name = \"D'silva\""
   ]
  },
  {
   "cell_type": "code",
   "execution_count": 35,
   "metadata": {},
   "outputs": [],
   "source": [
    "msg = \"\\\" is a double quote.\\' is a single quote\""
   ]
  },
  {
   "cell_type": "code",
   "execution_count": 36,
   "metadata": {},
   "outputs": [
    {
     "name": "stdout",
     "output_type": "stream",
     "text": [
      "\" is a double quote.' is a single quote\n"
     ]
    }
   ],
   "source": [
    "print(msg)"
   ]
  },
  {
   "cell_type": "code",
   "execution_count": 37,
   "metadata": {},
   "outputs": [],
   "source": [
    "msg = \"\\\" is a double quote.\\' is a single quote. \\\\ is a slash\""
   ]
  },
  {
   "cell_type": "code",
   "execution_count": 39,
   "metadata": {},
   "outputs": [
    {
     "name": "stdout",
     "output_type": "stream",
     "text": [
      "\" is a double quote.' is a single quote. \\ is a slash\n"
     ]
    }
   ],
   "source": [
    "print(msg)"
   ]
  },
  {
   "cell_type": "code",
   "execution_count": 41,
   "metadata": {},
   "outputs": [
    {
     "name": "stdout",
     "output_type": "stream",
     "text": [
      "\\\\ are double slash\n"
     ]
    }
   ],
   "source": [
    "print(\"\\\\\\\\ are double slash\")"
   ]
  },
  {
   "cell_type": "code",
   "execution_count": null,
   "metadata": {},
   "outputs": [],
   "source": []
  }
 ],
 "metadata": {
  "kernelspec": {
   "display_name": "Python 3",
   "language": "python",
   "name": "python3"
  },
  "language_info": {
   "codemirror_mode": {
    "name": "ipython",
    "version": 3
   },
   "file_extension": ".py",
   "mimetype": "text/x-python",
   "name": "python",
   "nbconvert_exporter": "python",
   "pygments_lexer": "ipython3",
   "version": "3.6.8"
  },
  "toc": {
   "base_numbering": 1,
   "nav_menu": {},
   "number_sections": true,
   "sideBar": true,
   "skip_h1_title": false,
   "title_cell": "Table of Contents",
   "title_sidebar": "Contents",
   "toc_cell": false,
   "toc_position": {},
   "toc_section_display": true,
   "toc_window_display": false
  }
 },
 "nbformat": 4,
 "nbformat_minor": 2
}
