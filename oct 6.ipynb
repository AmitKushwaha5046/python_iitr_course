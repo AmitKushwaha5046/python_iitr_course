{
 "cells": [
  {
   "cell_type": "code",
   "execution_count": 2,
   "metadata": {},
   "outputs": [
    {
     "data": {
      "text/plain": [
       "4"
      ]
     },
     "execution_count": 2,
     "metadata": {},
     "output_type": "execute_result"
    }
   ],
   "source": [
    "1+3"
   ]
  },
  {
   "cell_type": "code",
   "execution_count": 3,
   "metadata": {},
   "outputs": [
    {
     "name": "stdout",
     "output_type": "stream",
     "text": [
      "10\n"
     ]
    }
   ],
   "source": [
    "x = 10\n",
    "print(x)"
   ]
  },
  {
   "cell_type": "code",
   "execution_count": 4,
   "metadata": {},
   "outputs": [
    {
     "name": "stdout",
     "output_type": "stream",
     "text": [
      "200.0\n"
     ]
    }
   ],
   "source": [
    "p = 1000\n",
    "r = 10\n",
    "t = 2\n",
    "print(p*r*t/100)"
   ]
  },
  {
   "cell_type": "code",
   "execution_count": 6,
   "metadata": {},
   "outputs": [],
   "source": [
    "import math"
   ]
  },
  {
   "cell_type": "code",
   "execution_count": 11,
   "metadata": {},
   "outputs": [
    {
     "name": "stdout",
     "output_type": "stream",
     "text": [
      "Hypotenuse:  5.0\n"
     ]
    }
   ],
   "source": [
    "base = 3\n",
    "perp = 4\n",
    "hyp = math.sqrt(base*base +perp*perp)\n",
    "print(\"Hypotenuse: \", hyp)"
   ]
  },
  {
   "cell_type": "code",
   "execution_count": 21,
   "metadata": {
    "scrolled": true
   },
   "outputs": [
    {
     "name": "stdout",
     "output_type": "stream",
     "text": [
      "7.280109889280518\n"
     ]
    }
   ],
   "source": [
    "# Problem: \n",
    "x1, y1 = 10, 20\n",
    "x2, y2 = 12, 13\n",
    "\n",
    "'''\n",
    "The way to think about \n",
    "it is using the triangle visuals\n",
    "and we basicall\n",
    "'''\n",
    "d = math.sqrt((x2-x1)**2+(y2-y1)**2)\n",
    "print(d)"
   ]
  },
  {
   "cell_type": "code",
   "execution_count": 22,
   "metadata": {},
   "outputs": [
    {
     "name": "stdout",
     "output_type": "stream",
     "text": [
      "7.280109889280518\n"
     ]
    }
   ],
   "source": [
    "# Problem: \n",
    "x1, y1 = 10, 20\n",
    "x2, y2 = 12, 13\n",
    "\n",
    "'''\n",
    "The way to think about \n",
    "it is using the triangle visuals\n",
    "and we basicall\n",
    "'''\n",
    "base = x2 - x1\n",
    "perp = y2 - y1\n",
    "\n",
    "d = math.sqrt(base*base +perp*perp)\n",
    "print(d)"
   ]
  },
  {
   "cell_type": "code",
   "execution_count": 16,
   "metadata": {},
   "outputs": [],
   "source": [
    "# this is the comment\n",
    "\n",
    "x = 10"
   ]
  },
  {
   "cell_type": "code",
   "execution_count": 17,
   "metadata": {},
   "outputs": [],
   "source": [
    "fname = \"Sandeep\"\n",
    "lname = 'Giri'\n",
    "descrption = '''He is someone who lives in India and Canda.\n",
    "He has a family.\n",
    "He run cloudxlab.\n",
    "He is passionate about coding\n",
    "'''"
   ]
  },
  {
   "cell_type": "code",
   "execution_count": 20,
   "metadata": {},
   "outputs": [
    {
     "name": "stdout",
     "output_type": "stream",
     "text": [
      "Sandeep Giri He is someone who lives in India and Canda.\n",
      "He has a family.\n",
      "He run cloudxlab.\n",
      "He is passionate about coding\n",
      "\n"
     ]
    }
   ],
   "source": [
    "print(fname, lname, descrption)"
   ]
  },
  {
   "cell_type": "code",
   "execution_count": null,
   "metadata": {},
   "outputs": [],
   "source": [
    "# FInd the distance between the two points\n",
    "\n",
    "x1, y1, z1 = 10, 20, 30\n",
    "x2, y2, z2 = 2, 3, 4\n",
    "print(\"Distance: \")"
   ]
  },
  {
   "cell_type": "code",
   "execution_count": 23,
   "metadata": {},
   "outputs": [
    {
     "data": {
      "text/plain": [
       "'\\nThe way to think about \\nit is using the triangle visuals\\nand we basicall\\n'"
      ]
     },
     "execution_count": 23,
     "metadata": {},
     "output_type": "execute_result"
    }
   ],
   "source": [
    "\"\"\"\n",
    "The way to think about \n",
    "it is using the triangle visuals\n",
    "and we basicall\n",
    "\"\"\""
   ]
  },
  {
   "cell_type": "code",
   "execution_count": 24,
   "metadata": {},
   "outputs": [
    {
     "data": {
      "text/plain": [
       "'\\nThe way to think about \\nit is using the triangle visuals\\nand we basicall\\n'"
      ]
     },
     "execution_count": 24,
     "metadata": {},
     "output_type": "execute_result"
    }
   ],
   "source": [
    "'''\n",
    "The way to think about \n",
    "it is using the triangle visuals\n",
    "and we basicall\n",
    "'''"
   ]
  },
  {
   "cell_type": "code",
   "execution_count": 25,
   "metadata": {},
   "outputs": [],
   "source": [
    "name = \"D'silva\""
   ]
  },
  {
   "cell_type": "code",
   "execution_count": 35,
   "metadata": {},
   "outputs": [],
   "source": [
    "msg = \"\\\" is a double quote.\\' is a single quote\""
   ]
  },
  {
   "cell_type": "code",
   "execution_count": 36,
   "metadata": {},
   "outputs": [
    {
     "name": "stdout",
     "output_type": "stream",
     "text": [
      "\" is a double quote.' is a single quote\n"
     ]
    }
   ],
   "source": [
    "print(msg)"
   ]
  },
  {
   "cell_type": "code",
   "execution_count": 37,
   "metadata": {},
   "outputs": [],
   "source": [
    "msg = \"\\\" is a double quote.\\' is a single quote. \\\\ is a slash\""
   ]
  },
  {
   "cell_type": "code",
   "execution_count": 39,
   "metadata": {},
   "outputs": [
    {
     "name": "stdout",
     "output_type": "stream",
     "text": [
      "\" is a double quote.' is a single quote. \\ is a slash\n"
     ]
    }
   ],
   "source": [
    "print(msg)"
   ]
  },
  {
   "cell_type": "code",
   "execution_count": 41,
   "metadata": {},
   "outputs": [
    {
     "name": "stdout",
     "output_type": "stream",
     "text": [
      "\\\\ are double slash\n"
     ]
    }
   ],
   "source": [
    "print(\"\\\\\\\\ are double slash\")"
   ]
  },
  {
   "cell_type": "markdown",
   "metadata": {},
   "source": [
    "Compute L1 distance between two points\n",
    "\n",
    "x1, y1 = 5, 6\n",
    "\n",
    "x2, y2 = 7, 8\n",
    "\n",
    "distance: 4"
   ]
  },
  {
   "cell_type": "code",
   "execution_count": 1,
   "metadata": {},
   "outputs": [
    {
     "data": {
      "text/plain": [
       "5"
      ]
     },
     "execution_count": 1,
     "metadata": {},
     "output_type": "execute_result"
    }
   ],
   "source": [
    "2+3"
   ]
  },
  {
   "cell_type": "code",
   "execution_count": 8,
   "metadata": {},
   "outputs": [
    {
     "data": {
      "text/plain": [
       "96"
      ]
     },
     "execution_count": 8,
     "metadata": {},
     "output_type": "execute_result"
    }
   ],
   "source": [
    "12 << "
   ]
  },
  {
   "cell_type": "code",
   "execution_count": 11,
   "metadata": {},
   "outputs": [
    {
     "data": {
      "text/plain": [
       "(2, 4)"
      ]
     },
     "execution_count": 11,
     "metadata": {},
     "output_type": "execute_result"
    }
   ],
   "source": [
    "0b10, 0b100"
   ]
  },
  {
   "cell_type": "code",
   "execution_count": 13,
   "metadata": {},
   "outputs": [
    {
     "data": {
      "text/plain": [
       "492"
      ]
     },
     "execution_count": 13,
     "metadata": {},
     "output_type": "execute_result"
    }
   ],
   "source": [
    "123 << 2"
   ]
  },
  {
   "cell_type": "code",
   "execution_count": 14,
   "metadata": {},
   "outputs": [
    {
     "data": {
      "text/plain": [
       "6"
      ]
     },
     "execution_count": 14,
     "metadata": {},
     "output_type": "execute_result"
    }
   ],
   "source": [
    "12 >> 1"
   ]
  },
  {
   "cell_type": "code",
   "execution_count": 15,
   "metadata": {},
   "outputs": [
    {
     "data": {
      "text/plain": [
       "'0b101101'"
      ]
     },
     "execution_count": 15,
     "metadata": {},
     "output_type": "execute_result"
    }
   ],
   "source": [
    "bin(45)"
   ]
  },
  {
   "cell_type": "code",
   "execution_count": 16,
   "metadata": {},
   "outputs": [
    {
     "data": {
      "text/plain": [
       "'0b101110'"
      ]
     },
     "execution_count": 16,
     "metadata": {},
     "output_type": "execute_result"
    }
   ],
   "source": [
    "bin(46)"
   ]
  },
  {
   "cell_type": "code",
   "execution_count": 17,
   "metadata": {},
   "outputs": [
    {
     "data": {
      "text/plain": [
       "'0b11111'"
      ]
     },
     "execution_count": 17,
     "metadata": {},
     "output_type": "execute_result"
    }
   ],
   "source": [
    "bin(31)"
   ]
  },
  {
   "cell_type": "code",
   "execution_count": 19,
   "metadata": {},
   "outputs": [
    {
     "data": {
      "text/plain": [
       "'0b100'"
      ]
     },
     "execution_count": 19,
     "metadata": {},
     "output_type": "execute_result"
    }
   ],
   "source": [
    "bin(0b100 & 0b110)"
   ]
  },
  {
   "cell_type": "code",
   "execution_count": 21,
   "metadata": {},
   "outputs": [
    {
     "data": {
      "text/plain": [
       "4"
      ]
     },
     "execution_count": 21,
     "metadata": {},
     "output_type": "execute_result"
    }
   ],
   "source": [
    "4 & 6"
   ]
  },
  {
   "cell_type": "code",
   "execution_count": 22,
   "metadata": {},
   "outputs": [
    {
     "data": {
      "text/plain": [
       "'0b110'"
      ]
     },
     "execution_count": 22,
     "metadata": {},
     "output_type": "execute_result"
    }
   ],
   "source": [
    "bin(0b100 | 0b110)"
   ]
  },
  {
   "cell_type": "code",
   "execution_count": 23,
   "metadata": {},
   "outputs": [
    {
     "data": {
      "text/plain": [
       "'0b1110'"
      ]
     },
     "execution_count": 23,
     "metadata": {},
     "output_type": "execute_result"
    }
   ],
   "source": [
    "bin(0b1010 | 0b1100)"
   ]
  },
  {
   "cell_type": "code",
   "execution_count": 25,
   "metadata": {},
   "outputs": [
    {
     "data": {
      "text/plain": [
       "(10, 12)"
      ]
     },
     "execution_count": 25,
     "metadata": {},
     "output_type": "execute_result"
    }
   ],
   "source": [
    "0b1010, 0b1100"
   ]
  },
  {
   "cell_type": "code",
   "execution_count": 26,
   "metadata": {},
   "outputs": [
    {
     "data": {
      "text/plain": [
       "14"
      ]
     },
     "execution_count": 26,
     "metadata": {},
     "output_type": "execute_result"
    }
   ],
   "source": [
    "10 | 12"
   ]
  },
  {
   "cell_type": "code",
   "execution_count": 41,
   "metadata": {},
   "outputs": [
    {
     "data": {
      "text/plain": [
       "(21, 63)"
      ]
     },
     "execution_count": 41,
     "metadata": {},
     "output_type": "execute_result"
    }
   ],
   "source": [
    "0x15, 0o77"
   ]
  },
  {
   "cell_type": "code",
   "execution_count": 42,
   "metadata": {},
   "outputs": [
    {
     "data": {
      "text/plain": [
       "2"
      ]
     },
     "execution_count": 42,
     "metadata": {},
     "output_type": "execute_result"
    }
   ],
   "source": [
    "1+1"
   ]
  },
  {
   "cell_type": "code",
   "execution_count": 43,
   "metadata": {},
   "outputs": [
    {
     "data": {
      "text/plain": [
       "'0b10'"
      ]
     },
     "execution_count": 43,
     "metadata": {},
     "output_type": "execute_result"
    }
   ],
   "source": [
    "bin(2)"
   ]
  },
  {
   "cell_type": "code",
   "execution_count": 47,
   "metadata": {},
   "outputs": [
    {
     "data": {
      "text/plain": [
       "True"
      ]
     },
     "execution_count": 47,
     "metadata": {},
     "output_type": "execute_result"
    }
   ],
   "source": [
    "12 & 1 == 0"
   ]
  },
  {
   "cell_type": "code",
   "execution_count": 46,
   "metadata": {},
   "outputs": [
    {
     "data": {
      "text/plain": [
       "False"
      ]
     },
     "execution_count": 46,
     "metadata": {},
     "output_type": "execute_result"
    }
   ],
   "source": [
    "13 & 1 == 0"
   ]
  },
  {
   "cell_type": "code",
   "execution_count": 48,
   "metadata": {},
   "outputs": [
    {
     "data": {
      "text/plain": [
       "False"
      ]
     },
     "execution_count": 48,
     "metadata": {},
     "output_type": "execute_result"
    }
   ],
   "source": [
    "123 & 1 == 0"
   ]
  },
  {
   "cell_type": "code",
   "execution_count": 49,
   "metadata": {},
   "outputs": [
    {
     "data": {
      "text/plain": [
       "True"
      ]
     },
     "execution_count": 49,
     "metadata": {},
     "output_type": "execute_result"
    }
   ],
   "source": [
    "2816278168 & 1 == 0"
   ]
  },
  {
   "cell_type": "code",
   "execution_count": 50,
   "metadata": {},
   "outputs": [
    {
     "data": {
      "text/plain": [
       "0"
      ]
     },
     "execution_count": 50,
     "metadata": {},
     "output_type": "execute_result"
    }
   ],
   "source": [
    "12 % 2"
   ]
  },
  {
   "cell_type": "code",
   "execution_count": 51,
   "metadata": {},
   "outputs": [
    {
     "data": {
      "text/plain": [
       "1"
      ]
     },
     "execution_count": 51,
     "metadata": {},
     "output_type": "execute_result"
    }
   ],
   "source": [
    "13 % 2"
   ]
  },
  {
   "cell_type": "code",
   "execution_count": 52,
   "metadata": {},
   "outputs": [
    {
     "data": {
      "text/plain": [
       "False"
      ]
     },
     "execution_count": 52,
     "metadata": {},
     "output_type": "execute_result"
    }
   ],
   "source": [
    "14 % 3 == 0"
   ]
  },
  {
   "cell_type": "code",
   "execution_count": 57,
   "metadata": {},
   "outputs": [
    {
     "data": {
      "text/plain": [
       "'-0b1000000000001'"
      ]
     },
     "execution_count": 57,
     "metadata": {},
     "output_type": "execute_result"
    }
   ],
   "source": [
    "bin(~0b1000000000000)"
   ]
  },
  {
   "cell_type": "code",
   "execution_count": 58,
   "metadata": {},
   "outputs": [
    {
     "data": {
      "text/plain": [
       "'-0b1'"
      ]
     },
     "execution_count": 58,
     "metadata": {},
     "output_type": "execute_result"
    }
   ],
   "source": [
    "bin(-1)"
   ]
  },
  {
   "cell_type": "code",
   "execution_count": 59,
   "metadata": {},
   "outputs": [
    {
     "data": {
      "text/plain": [
       "-5"
      ]
     },
     "execution_count": 59,
     "metadata": {},
     "output_type": "execute_result"
    }
   ],
   "source": [
    "~4"
   ]
  },
  {
   "cell_type": "code",
   "execution_count": 61,
   "metadata": {},
   "outputs": [
    {
     "data": {
      "text/plain": [
       "-35"
      ]
     },
     "execution_count": 61,
     "metadata": {},
     "output_type": "execute_result"
    }
   ],
   "source": [
    "~34"
   ]
  },
  {
   "cell_type": "code",
   "execution_count": 62,
   "metadata": {},
   "outputs": [
    {
     "data": {
      "text/plain": [
       "1"
      ]
     },
     "execution_count": 62,
     "metadata": {},
     "output_type": "execute_result"
    }
   ],
   "source": [
    "1 ^ 0 # XOR"
   ]
  },
  {
   "cell_type": "code",
   "execution_count": 63,
   "metadata": {},
   "outputs": [
    {
     "data": {
      "text/plain": [
       "1"
      ]
     },
     "execution_count": 63,
     "metadata": {},
     "output_type": "execute_result"
    }
   ],
   "source": [
    "0 ^ 1"
   ]
  },
  {
   "cell_type": "code",
   "execution_count": 64,
   "metadata": {},
   "outputs": [
    {
     "data": {
      "text/plain": [
       "0"
      ]
     },
     "execution_count": 64,
     "metadata": {},
     "output_type": "execute_result"
    }
   ],
   "source": [
    "1 ^ 1"
   ]
  },
  {
   "cell_type": "code",
   "execution_count": 65,
   "metadata": {},
   "outputs": [
    {
     "data": {
      "text/plain": [
       "0"
      ]
     },
     "execution_count": 65,
     "metadata": {},
     "output_type": "execute_result"
    }
   ],
   "source": [
    "0 ^ 0"
   ]
  },
  {
   "cell_type": "markdown",
   "metadata": {},
   "source": [
    "XOR:\n",
    "1. If you flip any input, out will flip.\n",
    "2. You can recover one of the values given other two."
   ]
  },
  {
   "cell_type": "code",
   "execution_count": 66,
   "metadata": {},
   "outputs": [
    {
     "name": "stdout",
     "output_type": "stream",
     "text": [
      "33\n"
     ]
    }
   ],
   "source": [
    "a = 12\n",
    "b = 45\n",
    "c = a ^ b\n",
    "print(c)"
   ]
  },
  {
   "cell_type": "code",
   "execution_count": 67,
   "metadata": {},
   "outputs": [
    {
     "data": {
      "text/plain": [
       "('0b1100', '0b101101', '0b100001')"
      ]
     },
     "execution_count": 67,
     "metadata": {},
     "output_type": "execute_result"
    }
   ],
   "source": [
    "bin(12), bin(45), bin(33)"
   ]
  },
  {
   "cell_type": "code",
   "execution_count": 68,
   "metadata": {},
   "outputs": [
    {
     "data": {
      "text/plain": [
       "33"
      ]
     },
     "execution_count": 68,
     "metadata": {},
     "output_type": "execute_result"
    }
   ],
   "source": [
    "12 ^ 45"
   ]
  },
  {
   "cell_type": "code",
   "execution_count": 69,
   "metadata": {},
   "outputs": [
    {
     "data": {
      "text/plain": [
       "12"
      ]
     },
     "execution_count": 69,
     "metadata": {},
     "output_type": "execute_result"
    }
   ],
   "source": [
    "33 ^ 45"
   ]
  },
  {
   "cell_type": "code",
   "execution_count": 70,
   "metadata": {},
   "outputs": [
    {
     "data": {
      "text/plain": [
       "45"
      ]
     },
     "execution_count": 70,
     "metadata": {},
     "output_type": "execute_result"
    }
   ],
   "source": [
    "12 ^ 33"
   ]
  },
  {
   "cell_type": "code",
   "execution_count": 71,
   "metadata": {},
   "outputs": [],
   "source": [
    "# RAID5"
   ]
  },
  {
   "cell_type": "code",
   "execution_count": 72,
   "metadata": {},
   "outputs": [],
   "source": [
    "x = [10, 20, 30]"
   ]
  },
  {
   "cell_type": "code",
   "execution_count": 73,
   "metadata": {},
   "outputs": [
    {
     "data": {
      "text/plain": [
       "[10, 20, 30]"
      ]
     },
     "execution_count": 73,
     "metadata": {},
     "output_type": "execute_result"
    }
   ],
   "source": [
    "x"
   ]
  },
  {
   "cell_type": "code",
   "execution_count": 78,
   "metadata": {},
   "outputs": [
    {
     "name": "stdout",
     "output_type": "stream",
     "text": [
      "ok\n"
     ]
    }
   ],
   "source": [
    "amount = 30\n",
    "if amount > 50:\n",
    "    print(\"Higher than 50\")\n",
    "print(\"ok\")"
   ]
  },
  {
   "cell_type": "code",
   "execution_count": 79,
   "metadata": {},
   "outputs": [],
   "source": [
    "amount = 30\n",
    "if amount > 50:\n",
    "    print(\"Higher than 50\")\n",
    "    print(\"ok\")"
   ]
  },
  {
   "cell_type": "code",
   "execution_count": 80,
   "metadata": {},
   "outputs": [
    {
     "name": "stdout",
     "output_type": "stream",
     "text": [
      "Higher than 50\n",
      "ok\n"
     ]
    }
   ],
   "source": [
    "amount = 300\n",
    "if amount > 50:\n",
    "    print(\"Higher than 50\")\n",
    "    print(\"ok\")"
   ]
  },
  {
   "cell_type": "code",
   "execution_count": 85,
   "metadata": {},
   "outputs": [
    {
     "name": "stdout",
     "output_type": "stream",
     "text": [
      "even\n"
     ]
    }
   ],
   "source": [
    "amount = 8\n",
    "if amount > 50:\n",
    "    print(\"Higher than 50\")\n",
    "if amount % 2 == 0:\n",
    "    print(\"even\")"
   ]
  },
  {
   "cell_type": "code",
   "execution_count": 86,
   "metadata": {},
   "outputs": [
    {
     "name": "stdout",
     "output_type": "stream",
     "text": [
      "Name: Sandeep\n"
     ]
    }
   ],
   "source": [
    "name = input(\"Name: \")"
   ]
  },
  {
   "cell_type": "code",
   "execution_count": 87,
   "metadata": {},
   "outputs": [
    {
     "data": {
      "text/plain": [
       "'Sandeep'"
      ]
     },
     "execution_count": 87,
     "metadata": {},
     "output_type": "execute_result"
    }
   ],
   "source": [
    "name"
   ]
  },
  {
   "cell_type": "code",
   "execution_count": 88,
   "metadata": {},
   "outputs": [
    {
     "name": "stdout",
     "output_type": "stream",
     "text": [
      "Age: 30\n",
      "Hello Mr/Ms\n"
     ]
    }
   ],
   "source": [
    "num = input(\"Age: \")\n",
    "age = int(num)\n",
    "if age > 16:\n",
    "    print(\"Hello Mr/Ms\")\n",
    "else:\n",
    "    print(\"Hello Master\")"
   ]
  },
  {
   "cell_type": "code",
   "execution_count": 94,
   "metadata": {},
   "outputs": [],
   "source": [
    "def distance0(a, b):\n",
    "    if type(a) == str:\n",
    "        a = int(a)\n",
    "    if type(b) == str:\n",
    "        b = int(b)\n",
    "    diff = b - a\n",
    "    if diff < 0:\n",
    "        return -diff\n",
    "    else:\n",
    "        return diff"
   ]
  },
  {
   "cell_type": "code",
   "execution_count": 95,
   "metadata": {},
   "outputs": [
    {
     "name": "stdout",
     "output_type": "stream",
     "text": [
      "1\n"
     ]
    }
   ],
   "source": [
    "result = distance0(4, 5)\n",
    "print(result)"
   ]
  },
  {
   "cell_type": "code",
   "execution_count": 102,
   "metadata": {},
   "outputs": [
    {
     "data": {
      "text/plain": [
       "list"
      ]
     },
     "execution_count": 102,
     "metadata": {},
     "output_type": "execute_result"
    }
   ],
   "source": [
    "a = [10,20]\n",
    "type(a)"
   ]
  },
  {
   "cell_type": "code",
   "execution_count": 98,
   "metadata": {},
   "outputs": [
    {
     "data": {
      "text/plain": [
       "1"
      ]
     },
     "execution_count": 98,
     "metadata": {},
     "output_type": "execute_result"
    }
   ],
   "source": [
    "distance0(\"5\", 4)"
   ]
  },
  {
   "cell_type": "code",
   "execution_count": 99,
   "metadata": {},
   "outputs": [
    {
     "data": {
      "text/plain": [
       "1"
      ]
     },
     "execution_count": 99,
     "metadata": {},
     "output_type": "execute_result"
    }
   ],
   "source": [
    "distance0(\"5\", \"4\")"
   ]
  },
  {
   "cell_type": "code",
   "execution_count": 103,
   "metadata": {},
   "outputs": [],
   "source": [
    "def distance0(a, b):\n",
    "    if type(a) == str:\n",
    "        print(\"Needs to be number\")\n",
    "        return -1\n",
    "    if type(b) == str:\n",
    "        print(\"Needs to be number\")\n",
    "        return -1\n",
    "\n",
    "    diff = b - a\n",
    "    if diff < 0:\n",
    "        return -diff\n",
    "    else:\n",
    "        return diff"
   ]
  },
  {
   "cell_type": "code",
   "execution_count": 104,
   "metadata": {},
   "outputs": [
    {
     "name": "stdout",
     "output_type": "stream",
     "text": [
      "Needs to be number\n"
     ]
    },
    {
     "data": {
      "text/plain": [
       "-1"
      ]
     },
     "execution_count": 104,
     "metadata": {},
     "output_type": "execute_result"
    }
   ],
   "source": [
    "distance0(\"4\", 3)"
   ]
  },
  {
   "cell_type": "code",
   "execution_count": 105,
   "metadata": {},
   "outputs": [],
   "source": [
    "# Multiply two integers without using multiplication or loops\n",
    "def multiply(a, b):\n",
    "    if a == 0 or b == 0:\n",
    "        return 0\n",
    "    return multiply(a, b - 1) + a"
   ]
  },
  {
   "cell_type": "code",
   "execution_count": 106,
   "metadata": {},
   "outputs": [
    {
     "data": {
      "text/plain": [
       "450"
      ]
     },
     "execution_count": 106,
     "metadata": {},
     "output_type": "execute_result"
    }
   ],
   "source": [
    "multiply(10, 45)"
   ]
  },
  {
   "cell_type": "code",
   "execution_count": 107,
   "metadata": {},
   "outputs": [],
   "source": [
    "# Compute highest common factor without using loops"
   ]
  },
  {
   "cell_type": "code",
   "execution_count": 108,
   "metadata": {},
   "outputs": [],
   "source": [
    "# def hcf_recursive_asmi(a, b):\n",
    "#     if b == 0:\n",
    "#         return a\n",
    "#     else:\n",
    "#         return hcf_recursive(b, a % b)\n",
    "# num1 = 48\n",
    "# num2 = 18\n",
    "# print(f\"The HCF of {num1} and {num2} is: {hcf_recursive(num1, num2)}\")"
   ]
  },
  {
   "cell_type": "code",
   "execution_count": 111,
   "metadata": {},
   "outputs": [],
   "source": [
    "def hcf(a, b):\n",
    "    if a > b:\n",
    "        a, b = b, a\n",
    "    # a is smaller, b is bigger\n",
    "    if a == 0:\n",
    "        return 0\n",
    "    remainder = b % a\n",
    "    if remainder == 0:\n",
    "        return a\n",
    "    return hcf(remainder, a)"
   ]
  },
  {
   "cell_type": "code",
   "execution_count": 112,
   "metadata": {},
   "outputs": [
    {
     "data": {
      "text/plain": [
       "0"
      ]
     },
     "execution_count": 112,
     "metadata": {},
     "output_type": "execute_result"
    }
   ],
   "source": [
    "hcf(0, 4)"
   ]
  },
  {
   "cell_type": "code",
   "execution_count": 113,
   "metadata": {},
   "outputs": [
    {
     "data": {
      "text/plain": [
       "2"
      ]
     },
     "execution_count": 113,
     "metadata": {},
     "output_type": "execute_result"
    }
   ],
   "source": [
    "5 % 3"
   ]
  },
  {
   "cell_type": "code",
   "execution_count": null,
   "metadata": {},
   "outputs": [],
   "source": []
  },
  {
   "cell_type": "code",
   "execution_count": 114,
   "metadata": {},
   "outputs": [
    {
     "data": {
      "text/plain": [
       "5"
      ]
     },
     "execution_count": 114,
     "metadata": {},
     "output_type": "execute_result"
    }
   ],
   "source": [
    "35 % 15"
   ]
  },
  {
   "cell_type": "code",
   "execution_count": 115,
   "metadata": {},
   "outputs": [
    {
     "name": "stdout",
     "output_type": "stream",
     "text": [
      "60 45\n"
     ]
    }
   ],
   "source": [
    "x = 45\n",
    "y = 60\n",
    "z = x\n",
    "x = y\n",
    "y = z\n",
    "print(x, y)"
   ]
  },
  {
   "cell_type": "code",
   "execution_count": 116,
   "metadata": {},
   "outputs": [
    {
     "name": "stdout",
     "output_type": "stream",
     "text": [
      "60 45\n"
     ]
    }
   ],
   "source": [
    "x = 45\n",
    "y = 60\n",
    "x = x+y\n",
    "y = x - y\n",
    "x = x - y\n",
    "print(x, y)"
   ]
  },
  {
   "cell_type": "markdown",
   "metadata": {},
   "source": [
    "Q: Swap two values without using third using XOR"
   ]
  },
  {
   "cell_type": "markdown",
   "metadata": {},
   "source": [
    "Previously covered:\n",
    "\n",
    "    * Binary Operations: \n",
    "        * AND\n",
    "        * OR\n",
    "        * XOR\n",
    "        * NOT\n",
    "    * if-else conditions\n",
    "    * Functions: recursion\n",
    "    * input, int()"
   ]
  },
  {
   "cell_type": "code",
   "execution_count": 3,
   "metadata": {},
   "outputs": [
    {
     "name": "stdout",
     "output_type": "stream",
     "text": [
      "False\n"
     ]
    }
   ],
   "source": [
    "a = False\n",
    "print(a)"
   ]
  },
  {
   "cell_type": "code",
   "execution_count": 4,
   "metadata": {},
   "outputs": [
    {
     "name": "stdout",
     "output_type": "stream",
     "text": [
      "True\n"
     ]
    }
   ],
   "source": [
    "print(2 < 3 and 4 < 5)"
   ]
  },
  {
   "cell_type": "code",
   "execution_count": 7,
   "metadata": {
    "scrolled": true
   },
   "outputs": [
    {
     "name": "stdout",
     "output_type": "stream",
     "text": [
      "True\n"
     ]
    }
   ],
   "source": [
    "print( (2 < 3 or 6 < 5) and (10 < 34))"
   ]
  },
  {
   "cell_type": "code",
   "execution_count": 9,
   "metadata": {},
   "outputs": [],
   "source": [
    "age = 30\n",
    "is_male = True\n",
    "name = 'Sandeep'\n",
    "if age > 30 and is_male and name == 'Sandeep':\n",
    "    print(\"Hello Mr Sandeep\")"
   ]
  },
  {
   "cell_type": "code",
   "execution_count": 11,
   "metadata": {},
   "outputs": [
    {
     "data": {
      "text/plain": [
       "True"
      ]
     },
     "execution_count": 11,
     "metadata": {},
     "output_type": "execute_result"
    }
   ],
   "source": [
    "# Question: Given a single dimension, a point \n",
    "# tell whether the point is on the line.\n",
    "def is_online(st, end, p):\n",
    "    return True or False\n",
    "# Example\n",
    "print(is_online(1, 4, 3)) # True\n",
    "print(is_online(-3, -2, -1)) # False\n",
    "print(is_online(1, 4, 1)) # True\n",
    "print(is_online(1, 4, 4)) # True"
   ]
  },
  {
   "cell_type": "code",
   "execution_count": null,
   "metadata": {},
   "outputs": [],
   "source": [
    "def remainder(n, m):\n",
    "    if n < m: # Comparator operators: <, >, ==, <=, >=, !=\n",
    "        return n\n",
    "    "
   ]
  },
  {
   "cell_type": "code",
   "execution_count": 22,
   "metadata": {},
   "outputs": [
    {
     "name": "stdout",
     "output_type": "stream",
     "text": [
      "True\n",
      "True\n",
      "True\n",
      "True\n"
     ]
    }
   ],
   "source": [
    "#Tripti.Pandey (Oct 13, 2024, 10:58 AM)\n",
    "def is_online(x1,x2,x):\n",
    "    if(x>=x1 and x<=x2):\n",
    "        return True\n",
    "    if(x>=x2 and x<=x1):\n",
    "        return False\n",
    "    return False\n",
    "\n",
    "print(is_online(1, 4, 3) == True) # True\n",
    "print(is_online(-3, -2, -1) == False) # False\n",
    "print(is_online(1, 4, 1) == True) # True\n",
    "print(is_online(1, 4, 4) == True) # True"
   ]
  },
  {
   "cell_type": "code",
   "execution_count": 17,
   "metadata": {},
   "outputs": [],
   "source": [
    "# Test cases\n",
    "# Code coverage"
   ]
  },
  {
   "cell_type": "code",
   "execution_count": 19,
   "metadata": {},
   "outputs": [],
   "source": [
    "# Code should pass all tests\n",
    "# Code should run in expected time and memory - Big O notation.\n",
    "# Code has to be human readable. it's for human consumption"
   ]
  },
  {
   "cell_type": "code",
   "execution_count": 24,
   "metadata": {},
   "outputs": [
    {
     "name": "stdout",
     "output_type": "stream",
     "text": [
      "True\n",
      "True\n",
      "True\n",
      "True\n"
     ]
    }
   ],
   "source": [
    "#Japneet Singh (Oct 13, 2024, 10:58 AM)\n",
    "def is_online(st,end,p):\n",
    "    if(p>=st and p<=end):\n",
    "        return True\n",
    "    else : return False\n",
    "    \n",
    "print(is_online(1, 4, 3) == True) # True\n",
    "print(is_online(-3, -2, -1) == False) # False\n",
    "print(is_online(1, 4, 1) == True) # True\n",
    "print(is_online(1, 4, 4) == True) # True"
   ]
  },
  {
   "cell_type": "code",
   "execution_count": 25,
   "metadata": {},
   "outputs": [
    {
     "name": "stdout",
     "output_type": "stream",
     "text": [
      "True\n",
      "True\n",
      "True\n",
      "True\n",
      "True\n"
     ]
    }
   ],
   "source": [
    "#Arpit Mishra to You (direct message) (Oct 13, 2024, 10:58 AM)\n",
    "def is_online(s,e,p):\n",
    "    if p>=s and p<=e:\n",
    "        return True\n",
    "    else:\n",
    "        return False\n",
    "print(is_online(5,10,5))\n",
    "\n",
    "\n",
    "print(is_online(1, 4, 3) == True) # True\n",
    "print(is_online(-3, -2, -1) == False) # False\n",
    "print(is_online(1, 4, 1) == True) # True\n",
    "print(is_online(1, 4, 4) == True) # True"
   ]
  },
  {
   "cell_type": "code",
   "execution_count": null,
   "metadata": {},
   "outputs": [],
   "source": [
    "#Arpit Mishra to You (direct message) (Oct 13, 2024, 10:59 AM)\n",
    "def f(a,b):\n",
    "    if b==0:\n",
    "        print(\"enter valid value!!\")\n",
    "        exit()\n",
    "    if a<b:\n",
    "        return a\n",
    "    return f(a-b,b)\n",
    "        \n",
    "print(f(5,0))"
   ]
  },
  {
   "cell_type": "code",
   "execution_count": 26,
   "metadata": {},
   "outputs": [
    {
     "name": "stdout",
     "output_type": "stream",
     "text": [
      "True\n",
      "True\n",
      "True\n",
      "True\n"
     ]
    }
   ],
   "source": [
    "#Sarika Padakanti (Oct 13, 2024, 10:58 AM)\n",
    "def is_online(st, end, p):\n",
    "    if p >= st and p<= end:\n",
    "        return True\n",
    "    else:\n",
    "        return False\n",
    "\n",
    "\n",
    "print(is_online(1, 4, 3) == True) # True\n",
    "print(is_online(-3, -2, -1) == False) # False\n",
    "print(is_online(1, 4, 1) == True) # True\n",
    "print(is_online(1, 4, 4) == True) # True"
   ]
  },
  {
   "cell_type": "code",
   "execution_count": 27,
   "metadata": {},
   "outputs": [
    {
     "name": "stdout",
     "output_type": "stream",
     "text": [
      "True\n",
      "True\n",
      "True\n",
      "True\n"
     ]
    }
   ],
   "source": [
    "#Amit Gupta (Oct 13, 2024, 10:59 AM)\n",
    "def is_online(st, end, p):\n",
    "    if(p >=st and p<=end):\n",
    "        return True\n",
    "    else:\n",
    "        return False\n",
    "\n",
    "\n",
    "print(is_online(1, 4, 3) == True) # True\n",
    "print(is_online(-3, -2, -1) == False) # False\n",
    "print(is_online(1, 4, 1) == True) # True\n",
    "print(is_online(1, 4, 4) == True) # True"
   ]
  },
  {
   "cell_type": "code",
   "execution_count": 28,
   "metadata": {},
   "outputs": [
    {
     "name": "stdout",
     "output_type": "stream",
     "text": [
      "True\n",
      "True\n",
      "True\n",
      "True\n"
     ]
    }
   ],
   "source": [
    "#Anuj Km (Oct 13, 2024, 10:59 AM)\n",
    "def is_online(st, end, p):\n",
    "    if p >= st and p <= end :\n",
    "        return True\n",
    "    return False\n",
    "\n",
    "\n",
    "print(is_online(1, 4, 3) == True) # True\n",
    "print(is_online(-3, -2, -1) == False) # False\n",
    "print(is_online(1, 4, 1) == True) # True\n",
    "print(is_online(1, 4, 4) == True) # True"
   ]
  },
  {
   "cell_type": "code",
   "execution_count": 29,
   "metadata": {},
   "outputs": [
    {
     "name": "stdout",
     "output_type": "stream",
     "text": [
      "True\n",
      "True\n",
      "True\n",
      "True\n"
     ]
    }
   ],
   "source": [
    "#Nikita Thapliyal (Oct 13, 2024, 11:00 AM)\n",
    "def is_online(st, end,p):\n",
    "    if st<= p and p<=end:\n",
    "        return True\n",
    "    if st >p or p>end :\n",
    "        return False\n",
    "\n",
    "print(is_online(1, 4, 3) == True) # True\n",
    "print(is_online(-3, -2, -1) == False) # False\n",
    "print(is_online(1, 4, 1) == True) # True\n",
    "print(is_online(1, 4, 4) == True) # True"
   ]
  },
  {
   "cell_type": "code",
   "execution_count": 31,
   "metadata": {},
   "outputs": [
    {
     "name": "stdout",
     "output_type": "stream",
     "text": [
      "True\n",
      "True\n",
      "True\n",
      "True\n",
      "True\n"
     ]
    }
   ],
   "source": [
    "#Kavithadevi Gunasekaran (Oct 13, 2024, 11:00 AM)\n",
    "def is_online(st,end,p):\n",
    "    if(p>=st and p<=end):\n",
    "        return True \n",
    "    return False\n",
    "print(is_online(1,3,2))\n",
    "\n",
    "print(is_online(1, 4, 3) == True) # True\n",
    "print(is_online(-3, -2, -1) == False) # False\n",
    "print(is_online(1, 4, 1) == True) # True\n",
    "print(is_online(1, 4, 4) == True) # True"
   ]
  },
  {
   "cell_type": "code",
   "execution_count": 41,
   "metadata": {},
   "outputs": [
    {
     "name": "stdout",
     "output_type": "stream",
     "text": [
      "False\n",
      "True\n"
     ]
    }
   ],
   "source": [
    "#Ashutosh Sanjay (Oct 13, 2024, 11:15 AM)\n",
    "def iore(st,end,p):\n",
    "    if(p>=st and p<=end):\n",
    "        return True\n",
    "    else: \n",
    "        return False\n",
    "print(iore(2,5,6)==True)\n",
    "print(iore(1,2,3)==False)"
   ]
  },
  {
   "cell_type": "code",
   "execution_count": 36,
   "metadata": {},
   "outputs": [],
   "source": [
    "# Write code such that you don't need to explain \n",
    "# hence don't need to write comments\n",
    "# If the code is wrong the compiler or test cases will catch it, \n",
    "# But comments will continue to be wrong."
   ]
  },
  {
   "cell_type": "code",
   "execution_count": 40,
   "metadata": {
    "scrolled": true
   },
   "outputs": [
    {
     "name": "stdout",
     "output_type": "stream",
     "text": [
      "True\n",
      "True\n",
      "True\n",
      "True\n"
     ]
    }
   ],
   "source": [
    "def is_online(st,end,p):\n",
    "    return p>=st and p<=end\n",
    "\n",
    "print(is_online(1, 4, 3) == True) # True\n",
    "print(is_online(-3, -2, -1) == False) # False\n",
    "print(is_online(1, 4, 1) == True) # True\n",
    "print(is_online(1, 4, 4) == True) # True"
   ]
  },
  {
   "cell_type": "code",
   "execution_count": 45,
   "metadata": {},
   "outputs": [
    {
     "name": "stdout",
     "output_type": "stream",
     "text": [
      "True\n",
      "True\n",
      "True\n",
      "True\n"
     ]
    }
   ],
   "source": [
    "def is_online(st,end,p):\n",
    "    return (p-st)*(p-end) <= 0\n",
    "\n",
    "print(is_online(1, 4, 3) == True) # True\n",
    "print(is_online(-3, -2, -1) == False) # False\n",
    "print(is_online(1, 4, 1) == True) # True\n",
    "print(is_online(1, 4, 4) == True) # True"
   ]
  },
  {
   "cell_type": "code",
   "execution_count": null,
   "metadata": {},
   "outputs": [],
   "source": []
  },
  {
   "cell_type": "code",
   "execution_count": 39,
   "metadata": {},
   "outputs": [
    {
     "data": {
      "text/plain": [
       "0.15811388300841897"
      ]
     },
     "execution_count": 39,
     "metadata": {},
     "output_type": "execute_result"
    }
   ],
   "source": [
    "import math\n",
    "1/math.sqrt(40)"
   ]
  },
  {
   "cell_type": "code",
   "execution_count": 44,
   "metadata": {},
   "outputs": [
    {
     "name": "stdout",
     "output_type": "stream",
     "text": [
      "True\n",
      "True\n",
      "True\n",
      "True\n"
     ]
    }
   ],
   "source": [
    "#Pradeepa (Oct 13, 2024, 11:28 AM)\n",
    "def is_online(st,end,p):\n",
    "    if((end-p) >= 0 and (p-st)>=0):\n",
    "        return True\n",
    "    else: \n",
    "        return False\n",
    "    \n",
    "    \n",
    "print(is_online(1, 4, 3) == True) # True\n",
    "print(is_online(-3, -2, -1) == False) # False\n",
    "print(is_online(1, 4, 1) == True) # True\n",
    "print(is_online(1, 4, 4) == True) # True"
   ]
  },
  {
   "cell_type": "code",
   "execution_count": null,
   "metadata": {},
   "outputs": [],
   "source": [
    "# Prince Raj (Oct 13, 2024, 11:28 AM)\n",
    "def on_line(s, e, p):\n",
    "    if p >= s and p <=e:\n",
    "       return True\n",
    "    return False\n",
    "\n",
    "print(on_line(1, 4, 3))\n",
    "print(on_line(-3, -2, -1))\n",
    "print(on_line(1, 4, 1))\n",
    "print(on_line(1, 4, 4))\n",
    " \n",
    "# Tom George (Oct 13, 2024, 11:28 AM)\n",
    "def is_online(st, end, p):\n",
    "    if(p>=st and p<=end):\n",
    "        return True\n",
    "    return False\n",
    "\n",
    "print(is_online(1, 4, 1))\n",
    "print(is_online(1, 4, 3))\n",
    "print(is_online(1, 4, 4))\n",
    "print(is_online(-1, 4, -2))\n",
    "print(is_online(-4,-1, -3))\n",
    "print(is_online(-1, 4, 4))"
   ]
  },
  {
   "cell_type": "code",
   "execution_count": 46,
   "metadata": {},
   "outputs": [
    {
     "name": "stdout",
     "output_type": "stream",
     "text": [
      "False\n",
      "False\n",
      "False\n",
      "False\n",
      "False\n"
     ]
    }
   ],
   "source": [
    "# Question: Given a single dimension, a point \n",
    "# tell whether the point is on the line.\n",
    "def is_online(x1, x2, p):\n",
    "    pass\n",
    "\n",
    "print(is_online(1, 4, 3) == True) # True\n",
    "print(is_online(-3, -2, -1) == False) # False\n",
    "print(is_online(1, 4, 1) == True) # True\n",
    "print(is_online(1, 4, 4) == True) # True\n",
    "print(is_online(4, 1, 3) == True) # True"
   ]
  },
  {
   "cell_type": "code",
   "execution_count": 49,
   "metadata": {},
   "outputs": [
    {
     "name": "stdout",
     "output_type": "stream",
     "text": [
      "True\n",
      "True\n",
      "True\n",
      "True\n",
      "False\n"
     ]
    }
   ],
   "source": [
    "def is_online(x1,x2,p):\n",
    "    return p>=x1 and p<=x2\n",
    "\n",
    "print(is_online(1, 4, 3) == True) # True\n",
    "print(is_online(-3, -2, -1) == False) # False\n",
    "print(is_online(1, 4, 1) == True) # True\n",
    "print(is_online(1, 4, 4) == True) # True\n",
    "print(is_online(4, 1, 3) == True) # True"
   ]
  },
  {
   "cell_type": "code",
   "execution_count": 50,
   "metadata": {},
   "outputs": [
    {
     "name": "stdout",
     "output_type": "stream",
     "text": [
      "True\n",
      "True\n",
      "True\n",
      "True\n",
      "True\n"
     ]
    }
   ],
   "source": [
    "def is_online(st, end, p):\n",
    "    return (p>=st and p<=end) or (p>=end and p<=st)\n",
    "\n",
    "print(is_online(1, 4, 3) == True) # True\n",
    "print(is_online(-3, -2, -1) == False) # False\n",
    "print(is_online(1, 4, 1) == True) # True\n",
    "print(is_online(1, 4, 4) == True) # True\n",
    "print(is_online(4, 1, 3) == True) # True"
   ]
  },
  {
   "cell_type": "code",
   "execution_count": 53,
   "metadata": {},
   "outputs": [
    {
     "name": "stdout",
     "output_type": "stream",
     "text": [
      "True\n",
      "True\n",
      "True\n",
      "True\n",
      "True\n",
      "True\n"
     ]
    }
   ],
   "source": [
    "def is_online(x1,x2,p):\n",
    "    # p should be differnt sides of x1 and x2\n",
    "    return (p-x1)*(p-x2) <= 0\n",
    "\n",
    "print(is_online(1, 4, 3) == True) # True\n",
    "print(is_online(-3, -2, -1) == False) # False\n",
    "print(is_online(1, 4, 1) == True) # True\n",
    "print(is_online(1, 4, 4) == True) # True\n",
    "print(is_online(4, 1, 3) == True) # True\n",
    "print(is_online(1, 4, 10) == False) # True"
   ]
  },
  {
   "cell_type": "code",
   "execution_count": 57,
   "metadata": {},
   "outputs": [
    {
     "name": "stdout",
     "output_type": "stream",
     "text": [
      "True\n",
      "True\n",
      "True\n",
      "True\n",
      "False\n",
      "False\n",
      "False\n",
      "False\n"
     ]
    }
   ],
   "source": [
    "# Question: Given a rectangle (x1, y1),  (x2,y2), point (x, y.)\n",
    "# Return True if the point is on or inside the rectangle.\n",
    "\n",
    "def is_inside_rectangle(x1, y1, x2, y2, x, y):\n",
    "    return True or False\n",
    "\n",
    "print(is_inside_rectangle(1, 2, 3, 4, 2, 3) == True)\n",
    "print(is_inside_rectangle(-1, -2, -3, -4, -2, -3) == True)\n",
    "print(is_inside_rectangle(3, 4, 1, 2, 2, 3) == True)\n",
    "print(is_inside_rectangle(-3, -4, -1, -2, -2, -3) == True)\n",
    "\n",
    "\n",
    "print(is_inside_rectangle(1, 2, 3, 4, 5, 6) == False)\n",
    "print(is_inside_rectangle(-1, -2, -3, -4, -5, -6) == False)\n",
    "print(is_inside_rectangle(3, 4, 1, 2, 5, 6) == False)\n",
    "print(is_inside_rectangle(-3, -4, -1, -2, -5, -6) == False)\n"
   ]
  },
  {
   "cell_type": "code",
   "execution_count": 66,
   "metadata": {},
   "outputs": [
    {
     "name": "stdout",
     "output_type": "stream",
     "text": [
      "True\n",
      "True\n",
      "True\n",
      "True\n",
      "True\n",
      "True\n",
      "True\n",
      "True\n",
      "True\n",
      "True\n",
      "True\n",
      "True\n",
      "True\n",
      "True\n",
      "True\n",
      "True\n",
      "True\n",
      "True\n",
      "True\n",
      "True\n"
     ]
    }
   ],
   "source": [
    "#Arpit Mishra to You (direct message)\n",
    "def is_inside_rectangle(x1,y1,x2,y2,x,y):\n",
    "    return (x<=x1 and x>=x2 and y<=y1 and y>=y2) or (x>=x1 and x<=x2 and y>=y1 and y<=y2) \n",
    "\n",
    "\n",
    "print(is_inside_rectangle(1, 2, 3, 4, 2, 3) == True)\n",
    "print(is_inside_rectangle(-1, -2, -3, -4, -2, -3) == True)\n",
    "print(is_inside_rectangle(3, 4, 1, 2, 2, 3) == True)\n",
    "print(is_inside_rectangle(-3, -4, -1, -2, -2, -3) == True)\n",
    "print(is_inside_rectangle(1, 2, 3, 4, 5, 6) == False)\n",
    "print(is_inside_rectangle(-1, -2, -3, -4, -5, -6) == False)\n",
    "print(is_inside_rectangle(3, 4, 1, 2, 5, 6) == False)\n",
    "print(is_inside_rectangle(-3, -4, -1, -2, -5, -6) == False)\n",
    "\n",
    "print(is_inside_rectangle(-1, -2, 3, 4, 2, 3) == True)\n",
    "print(is_inside_rectangle(1, 2, -3, -4, -2, -3) == True)\n",
    "print(is_inside_rectangle(3, 4, -1, -2, 2, 3) == True)\n",
    "print(is_inside_rectangle(-3, -4, 1, 2, -2, -3) == True)\n",
    "\n",
    "print(is_inside_rectangle(-1, -2, 3, 4, 5, 6) == False)\n",
    "print(is_inside_rectangle(1, 2, -3, -4, -5, -6) == False)\n",
    "print(is_inside_rectangle(3, 4, -1, -2, 5, 6) == False)\n",
    "print(is_inside_rectangle(-3, -4, 1, 2, -5, -6) == False)\n",
    "\n",
    "print(is_inside_rectangle(-1, -2, 3, 4, 1, 3) == True)\n",
    "print(is_inside_rectangle(1, 2, -3, -4, -1, -3) == True)\n",
    "print(is_inside_rectangle(3, 4, -1, -2, 1, 3) == True)\n",
    "print(is_inside_rectangle(-3, -4, 1, 2, -1, -3) == True)\n"
   ]
  },
  {
   "cell_type": "code",
   "execution_count": 70,
   "metadata": {},
   "outputs": [
    {
     "name": "stdout",
     "output_type": "stream",
     "text": [
      "True\n",
      "True\n",
      "True\n",
      "True\n",
      "True\n",
      "True\n",
      "True\n",
      "True\n",
      "True\n",
      "True\n",
      "True\n",
      "True\n",
      "True\n",
      "True\n",
      "True\n",
      "True\n",
      "True\n",
      "True\n",
      "True\n",
      "True\n"
     ]
    }
   ],
   "source": [
    "#Nupur Mohanty (Oct 13, 2024, 11:49 AM)\n",
    "def is_inside_rectangle_nupur(x1, y1, x2, y2, x, y):\n",
    "    return (x-x1)*(x-x2) <=0 & (y-y1)*(y-y2)<=0\n",
    "\n",
    "test_my_function_rect_problem(is_inside_rectangle_nupur)"
   ]
  },
  {
   "cell_type": "code",
   "execution_count": 67,
   "metadata": {},
   "outputs": [],
   "source": [
    "def test_my_function_rect_problem(is_inside_rectangle):\n",
    "    print(is_inside_rectangle(1, 2, 3, 4, 2, 3) == True)\n",
    "    print(is_inside_rectangle(-1, -2, -3, -4, -2, -3) == True)\n",
    "    print(is_inside_rectangle(3, 4, 1, 2, 2, 3) == True)\n",
    "    print(is_inside_rectangle(-3, -4, -1, -2, -2, -3) == True)\n",
    "    print(is_inside_rectangle(1, 2, 3, 4, 5, 6) == False)\n",
    "    print(is_inside_rectangle(-1, -2, -3, -4, -5, -6) == False)\n",
    "    print(is_inside_rectangle(3, 4, 1, 2, 5, 6) == False)\n",
    "    print(is_inside_rectangle(-3, -4, -1, -2, -5, -6) == False)\n",
    "\n",
    "    print(is_inside_rectangle(-1, -2, 3, 4, 2, 3) == True)\n",
    "    print(is_inside_rectangle(1, 2, -3, -4, -2, -3) == True)\n",
    "    print(is_inside_rectangle(3, 4, -1, -2, 2, 3) == True)\n",
    "    print(is_inside_rectangle(-3, -4, 1, 2, -2, -3) == True)\n",
    "\n",
    "    print(is_inside_rectangle(-1, -2, 3, 4, 5, 6) == False)\n",
    "    print(is_inside_rectangle(1, 2, -3, -4, -5, -6) == False)\n",
    "    print(is_inside_rectangle(3, 4, -1, -2, 5, 6) == False)\n",
    "    print(is_inside_rectangle(-3, -4, 1, 2, -5, -6) == False)\n",
    "\n",
    "    print(is_inside_rectangle(-1, -2, 3, 4, 1, 3) == True)\n",
    "    print(is_inside_rectangle(1, 2, -3, -4, -1, -3) == True)\n",
    "    print(is_inside_rectangle(3, 4, -1, -2, 1, 3) == True)\n",
    "    print(is_inside_rectangle(-3, -4, 1, 2, -1, -3) == True)\n"
   ]
  },
  {
   "cell_type": "code",
   "execution_count": null,
   "metadata": {},
   "outputs": [],
   "source": [
    "test_my_function_rect_problem"
   ]
  },
  {
   "cell_type": "code",
   "execution_count": 71,
   "metadata": {},
   "outputs": [],
   "source": [
    "def remainder(n, m):\n",
    "    if n < m: # Comparator operators: <, >, ==, <=, >=, !=\n",
    "        return n\n",
    "    "
   ]
  },
  {
   "cell_type": "code",
   "execution_count": 3,
   "metadata": {},
   "outputs": [],
   "source": [
    "def test_remainder(sol):\n",
    "    print(sol(5, 5) == 0)\n",
    "    print(sol(0, 5) == 0)\n",
    "    print(sol(1, 5) == 1)\n",
    "    print(sol(12, 5) == 2)\n",
    "    print(sol(12, 0) == None)"
   ]
  },
  {
   "cell_type": "code",
   "execution_count": 8,
   "metadata": {},
   "outputs": [
    {
     "data": {
      "text/plain": [
       "(function, list, str, int, float)"
      ]
     },
     "execution_count": 8,
     "metadata": {},
     "output_type": "execute_result"
    }
   ],
   "source": [
    "type(test_remainder), type([]), type(\"ccc\"), type(123), type(3.4)"
   ]
  },
  {
   "cell_type": "code",
   "execution_count": 9,
   "metadata": {},
   "outputs": [
    {
     "name": "stdout",
     "output_type": "stream",
     "text": [
      "True\n",
      "True\n",
      "True\n",
      "True\n",
      "enter valid value!!\n",
      "True\n"
     ]
    }
   ],
   "source": [
    "#Arpit Mishra to You (direct message) (Oct 13, 2024, 10:59 AM)\n",
    "def f(a,b):\n",
    "    if b==0:\n",
    "        print(\"enter valid value!!\")\n",
    "        return None\n",
    "    if a<b:\n",
    "        return a\n",
    "    return f(a-b,b)\n",
    "test_remainder(f)"
   ]
  },
  {
   "cell_type": "code",
   "execution_count": null,
   "metadata": {},
   "outputs": [],
   "source": []
  }
 ],
 "metadata": {
  "kernelspec": {
   "display_name": "Python 3",
   "language": "python",
   "name": "python3"
  },
  "language_info": {
   "codemirror_mode": {
    "name": "ipython",
    "version": 3
   },
   "file_extension": ".py",
   "mimetype": "text/x-python",
   "name": "python",
   "nbconvert_exporter": "python",
   "pygments_lexer": "ipython3",
   "version": "3.6.8"
  },
  "toc": {
   "base_numbering": 1,
   "nav_menu": {},
   "number_sections": true,
   "sideBar": true,
   "skip_h1_title": false,
   "title_cell": "Table of Contents",
   "title_sidebar": "Contents",
   "toc_cell": false,
   "toc_position": {},
   "toc_section_display": true,
   "toc_window_display": false
  }
 },
 "nbformat": 4,
 "nbformat_minor": 2
}
