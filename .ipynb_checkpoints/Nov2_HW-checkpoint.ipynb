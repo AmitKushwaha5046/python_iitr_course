{
 "cells": [
  {
   "cell_type": "code",
   "execution_count": null,
   "id": "9af2f356-1c85-4695-9c99-e45514b499ca",
   "metadata": {},
   "outputs": [],
   "source": [
    "# Problem1:\n",
    "# 2y = 40 -> [2, 40]\n",
    "# y = 40/2 -> [20]\n",
    "\n",
    "def solve1(arr):\n",
    "    # TODO:\n",
    "    returns [arr[1]/arr[0]]\n",
    "\n",
    "# Input: [3, 15]\n",
    "# Expected: [5]"
   ]
  },
  {
   "cell_type": "markdown",
   "id": "5b76af28-74ea-4fc9-8a95-07dd22ae238d",
   "metadata": {},
   "source": [
    "# Problem 2\n",
    "\n",
    "#2x + 5y = 78, y=2\n",
    "#x = (78 - 5*2)/2\n",
    "\n",
    "def solve_substitute(eqn, prev_ans):\n",
    "    return []\n",
    "\n",
    "#Example 1:\n",
    "solve_substitute([2, 5, 78], [2])\n",
    "expected_answer: [34, 2]\n",
    "\n",
    "#Example 2:\n",
    "# 3x + 5y - 10z = 30\n",
    "# y, z = [1, 2]\n",
    "# 3*x + 5*1 - 10*2 = 30\n",
    "# x = (30 - (5*1 - 10*2))/3\n",
    "\n",
    "solve_substitute([3, 5, -10, 30], [1, 2]), \n",
    "Expected_answer: [15, 1, 2]\n",
    "\n",
    "# Problem 3\n",
    "A. 2x + 3y = 10\n",
    "B. 4x - 5y = 50\n",
    "---\n",
    "\n",
    "Multiplier = 4/2\n",
    "C. B - 2*A\n",
    "C. -11y = 30\n",
    "\n",
    "def reduce(arr):\n",
    "    return arr\n",
    "\n",
    "input = [[2, 3, 10],\n",
    "    [4, -5, 50]]\n",
    "result = reduce(input)\n",
    "result = [-11, 30]\n",
    "\n",
    "result = reduce([\n",
    "    [1, 2, 3, 4], #x + 2y + 3z = 4\n",
    "    [2, 2, 4, 10],\n",
    "    [3, 4, 2, 30],\n",
    "])\n",
    "result: [\n",
    "    [ -2, -2, 2], #eqn2 - 2*eqn1\n",
    "    [-2, -7, 18],  #eqn3 - 2*eqn1\n",
    "]"
   ]
  },
  {
   "cell_type": "code",
   "execution_count": null,
   "id": "daa16dbe-fb58-42a9-8f53-2deb95df669a",
   "metadata": {},
   "outputs": [],
   "source": [
    "# Code convert to number a decimal numbers\n",
    "# Problem 4: \n",
    "num = \"१३७.७\"\n",
    "def convert(num):\n",
    "    # print(137.7)\n",
    "    pass"
   ]
  },
  {
   "cell_type": "code",
   "execution_count": 63,
   "id": "e4207ab1-373c-42c4-9134-5838e13e8713",
   "metadata": {},
   "outputs": [
    {
     "name": "stdout",
     "output_type": "stream",
     "text": [
      "[5, 2, 7, 3, 45]\n",
      "1.8 multiplier 9 / 5\n",
      "[9.0, 3.6, 12.6, 5.4, 81.0]\n",
      "[6, 4, 3, 6, 53]\n",
      "1.5 multiplier 9 / 6\n",
      "[9.0, 6.0, 4.5, 9.0, 79.5]\n",
      "[8, 2, 5, 6, 63]\n",
      "1.125 multiplier 9 / 8\n",
      "[9.0, 2.25, 5.625, 6.75, 70.875]\n",
      "[0.0, -2.0, -4.5, 7.0, 37.5]\n",
      "2.2 multiplier -4.4 / -2.0\n",
      "[0.0, -4.4, -9.9, 15.400000000000002, 82.5]\n",
      "[0.0, -5.75, -3.375, 4.75, 28.875]\n",
      "0.7652173913043478 multiplier -4.4 / -5.75\n",
      "[0.0, -4.4, -2.582608695652174, 3.6347826086956525, 22.095652173913045]\n",
      "[0.0, 0.0, -6.182608695652174, 0.23478260869565215, -16.904347826086955]\n",
      "2.1835443037974684 multiplier -13.5 / -6.182608695652174\n",
      "[0.0, 0.0, -13.500000000000002, 0.5126582278481012, -36.91139240506329]\n"
     ]
    },
    {
     "data": {
      "text/plain": [
       "[[9, 8, 9, 2, 42],\n",
       " [0.0, -4.4, 3.5999999999999996, 3.4000000000000004, 39.0],\n",
       " [0.0, 0.0, -13.5, 12.000000000000002, 43.5],\n",
       " [0.0, 0.0, -1.7763568394002505e-15, -11.4873417721519, -80.41139240506328]]"
      ]
     },
     "execution_count": 63,
     "metadata": {},
     "output_type": "execute_result"
    }
   ],
   "source": [
    "import copy\n",
    "eq1 = [9,8,9,2,42]\n",
    "eq2 = [5,2,7,3,45]\n",
    "eq3 = [6,4,3,6,53]\n",
    "eq4 = [8,2,5,6,63]\n",
    "matrix=[eq1,eq2,eq3,eq4]\n",
    "#--------------------------------------------------------#\n",
    "def eqn_subtract(eqn1, eqn2,i):\n",
    "    print(eqn2)\n",
    "    if eqn2[i]==0:\n",
    "        return eqn2\n",
    "    multiplier = eqn1[i] / eqn2[i]                       ## Calculate the multiplier\n",
    "    print(multiplier , 'multiplier',f'{eqn1[i]} / {eqn2[i]}')\n",
    "    eqn2_scaled = [multiplier * value for value in eqn2] ## Multiply eqn2 by the multiplier\n",
    "    print(eqn2_scaled)\n",
    "    result = [b-a for a, b in zip(eqn1, eqn2_scaled)]  ## Subtract scaled eqn2 from eqn1\n",
    "    return result\n",
    "#--------------------------------------------------------#        \n",
    "def gaussian_reduce_matrix(matrix):                    #matrix [row][col]  or matrix [eqn][variable]\n",
    "    len_of_matrix =  len(matrix)\n",
    "    \n",
    "    for equation in range(0,len_of_matrix,1):        \n",
    "        #to update all remianing eqn we will send ti to reducer\n",
    "        for i in range(equation+1 , len_of_matrix,1):\n",
    "            matrix[i]=eqn_subtract(matrix[equation],matrix[i],equation)\n",
    "    return matrix  \n",
    "    # print(matrix)\n",
    "#--------------------------------------------------------#\n",
    "gaussian_reduce_matrix(matrix)"
   ]
  },
  {
   "cell_type": "code",
   "execution_count": 61,
   "id": "1efd3aad-bb36-442b-93fe-06105bd514af",
   "metadata": {},
   "outputs": [
    {
     "name": "stdout",
     "output_type": "stream",
     "text": [
      "iteration : 0\n",
      "[4, -8, 60, 80]\n",
      "0.25 multiplier 1 / 4\n",
      "[1.0, -2.0, 15.0, 20.0]\n",
      "equation =  0 \t i =  1 \t modified : [0.0, -4.0, -5.0, -40.0]\n",
      "[2, -20, 300, 40]\n",
      "0.5 multiplier 1 / 2\n",
      "[1.0, -10.0, 150.0, 20.0]\n",
      "equation =  0 \t i =  2 \t modified : [0.0, -12.0, 130.0, -40.0]\n",
      "iteration : 1\n",
      "[0.0, -12.0, 130.0, -40.0]\n",
      "0.3333333333333333 multiplier -4.0 / -12.0\n",
      "[0.0, -4.0, 43.33333333333333, -13.333333333333332]\n",
      "equation =  1 \t i =  2 \t modified : [0.0, 0.0, 48.33333333333333, 26.666666666666668]\n",
      "iteration : 2\n"
     ]
    },
    {
     "data": {
      "text/plain": [
       "[[1, 2, 20, 60],\n",
       " [0.0, -4.0, -5.0, -40.0],\n",
       " [0.0, 0.0, 48.33333333333333, 26.666666666666668]]"
      ]
     },
     "execution_count": 61,
     "metadata": {},
     "output_type": "execute_result"
    }
   ],
   "source": [
    "matrix=[[1,2,20,60],[4,-8,60,80],[2,-20,300,40]]\n",
    "gaussian_reduce_matrix(matrix)\n",
    "matrix"
   ]
  },
  {
   "cell_type": "code",
   "execution_count": null,
   "id": "cecc682b-8a2d-4461-820c-ff0a6c10b97c",
   "metadata": {},
   "outputs": [],
   "source": [
    "print(eq2)\n",
    "eqn_subtract(eq1,eq2)\n"
   ]
  },
  {
   "cell_type": "code",
   "execution_count": null,
   "id": "66399ebb-54a8-42b9-942e-edcdbd9cc253",
   "metadata": {},
   "outputs": [],
   "source": [
    "for row in range(0,5,1):\n",
    "    for star in range(0,row,1): \n",
    "        print('*',end='')\n",
    "    for i in range(0,5-row,1):\n",
    "        print(1, end='')\n",
    "    print()"
   ]
  },
  {
   "cell_type": "code",
   "execution_count": 32,
   "id": "b25ffd90-1f38-4745-8e01-6be70725e6e6",
   "metadata": {},
   "outputs": [
    {
     "name": "stdout",
     "output_type": "stream",
     "text": [
      "[[3, 6, 8, 1], [9, 1, 2, 0], [4, 5, 6, 0]]\n",
      "654\n",
      "219\n",
      "1863\n"
     ]
    },
    {
     "data": {
      "text/plain": [
       "69453"
      ]
     },
     "execution_count": 32,
     "metadata": {},
     "output_type": "execute_result"
    }
   ],
   "source": [
    "eq1 = [1,2,3]\n",
    "eq2 = [4,5,6]\n",
    "\n",
    "def multi(eq1,eq2) -> list:\n",
    "    sum = []\n",
    "    i=len(eq1)-1\n",
    "    while i>=0:\n",
    "        j=len(eq2)-1\n",
    "        multi=[]\n",
    "        carry=0\n",
    "        while j>=0:\n",
    "            # print(f'{carry} = {eq1[i]}*{eq2[j]}',eq1[i]*eq2[j])\n",
    "            multi.insert(0,eq1[i]*eq2[j]%10 + carry)\n",
    "            carry = eq1[i]*eq2[j]//10\n",
    "            j=j-1\n",
    "        multi.append(carry)\n",
    "        i=i-1\n",
    "        sum.append(multi)\n",
    "    return sum\n",
    "# #-----------------------------------#\n",
    "def shiftandadd(num):\n",
    "    i=len(num)-1\n",
    "    a=0\n",
    "    while i >-1:\n",
    "        a = (a*10)+num[i]\n",
    "        i=i-1\n",
    "    print(a)\n",
    "    return int(a)\n",
    "# #--------------------------------------#\n",
    "ans = multi(eq1,eq2)\n",
    "print(ans)\n",
    "#--------------------------------------#\n",
    "sum=0\n",
    "for i in range(len(ans)-1,-1,-1):\n",
    "    sum = sum *10 + int(shiftandadd(ans[i]))\n",
    "    # print(type(shiftandadd(ans[i])))\n",
    "sum"
   ]
  },
  {
   "cell_type": "code",
   "execution_count": 18,
   "id": "2b10d403-a77a-4ad1-b498-e1f46509bd2e",
   "metadata": {},
   "outputs": [
    {
     "name": "stdout",
     "output_type": "stream",
     "text": [
      "3\n",
      "1863\n"
     ]
    }
   ],
   "source": [
    "def shiftandadd(num):\n",
    "    i=len(num)-1\n",
    "    print(i)\n",
    "    a=0\n",
    "    while i >-1:\n",
    "        a = (a*10)+num[i]\n",
    "        i=i-1\n",
    "    print(a)\n",
    "shiftandadd([3, 6, 8, 1])"
   ]
  },
  {
   "cell_type": "code",
   "execution_count": null,
   "id": "11785087-5adc-45ef-9eaf-362e6f516d02",
   "metadata": {},
   "outputs": [],
   "source": []
  }
 ],
 "metadata": {
  "kernelspec": {
   "display_name": "Python 3 (ipykernel)",
   "language": "python",
   "name": "python3"
  },
  "language_info": {
   "codemirror_mode": {
    "name": "ipython",
    "version": 3
   },
   "file_extension": ".py",
   "mimetype": "text/x-python",
   "name": "python",
   "nbconvert_exporter": "python",
   "pygments_lexer": "ipython3",
   "version": "3.11.7"
  }
 },
 "nbformat": 4,
 "nbformat_minor": 5
}
