{
 "cells": [
  {
   "cell_type": "code",
   "execution_count": 4,
   "id": "356b3ba6-eab9-4767-9fcf-140df3320d96",
   "metadata": {},
   "outputs": [
    {
     "name": "stdout",
     "output_type": "stream",
     "text": [
      "deteremination of matrix : 0\n"
     ]
    }
   ],
   "source": [
    "#final code\n",
    "# 3x−4y+8z=34\n",
    "# 4x+y−2z=1\n",
    "# −6x−13y+20z=61\n",
    "# eq1 = [3  , 4  , 8  ,34 ]\n",
    "# eq2 = [4  , 1  , -2  ,1 ]\n",
    "# eq3 = [-6  , -13 , 20  ,61 ]\n",
    "eq1 = [0,1,2,3]\n",
    "eq2 = [4,5,6,7]\n",
    "eq3 = [8,9,10,11]\n",
    "eq4 = [12,13,14,15]\n",
    "# eq1 = ['A0','B0','C0','D0']\n",
    "# eq2 = ['A1','B1','C1','D1']\n",
    "# eq3 = ['A2','B2','C2','D2']\n",
    "# eq4 = ['A3','B3','C3','D3']\n",
    "num_of_variable = 3\n",
    "A = [  eq1 ,eq2,eq3,eq4  ]\n",
    "B = ['X'  ,  'Y',  'Z']\n",
    "C = [34 , 1 , 61]\n",
    "#--------------------------------------------------------------#\n",
    "import copy\n",
    "def Determinant_of_a_Matrix(matrix):    #[row][col]\n",
    "    #varible initialization\n",
    "    size = len(matrix) \n",
    "    sum_determination = 0\n",
    "    temp_sum=0\n",
    "    \n",
    "    #Row 1 has all variable constant\n",
    "    copy_matrix_first_row = copy.deepcopy(matrix)[0]   ### for list under list the copy will effect the original list so using deepcopy\n",
    "    # print(\"\\nRow 0      :\\t\",copy_matrix_first_row)\n",
    "\n",
    "    #Rest of the matrix where we will find detereminant and also reduce it to small \n",
    "    copy_matrix1 = copy.deepcopy(matrix)   ### for list under list the copy will effect the original list so using deepcopy\n",
    "    # print('matrix \\n-------------------\\n',copy_matrix1,'\\n-------------------')\n",
    "    # print('-------------------\\n',copy_matrix1,'\\n-------------------')\n",
    "    \n",
    "    len_row1 = len(copy_matrix_first_row)\n",
    "    # print(\"no of col in the on working matrix:\",len_row1)\n",
    "\n",
    "    if len_row1 <2:              #only one row/col remain\n",
    "        # print('last element',copy_matrix1[0][0])\n",
    "        return copy_matrix1[0][0]\n",
    "    else:                                               #[row][col]\n",
    "        for y in range(0,len_row1,1):                                #col   --- variable \n",
    "            # print(\"\\ny = \" ,y ,'\\t\\t matrix y element is:', copy_matrix_first_row[y])\n",
    "            copy_matrix1 = copy.deepcopy(matrix)                     ### for list under list the copy will effect the original list so using deepcopy\n",
    "            del copy_matrix1[0]\n",
    "            # temp_sum= copy_matrix_first_row[y]\n",
    "            for z in range(0,len(copy_matrix1),1):                   #row control ---- eqn \n",
    "                for x in range(0,len(copy_matrix1[z]),1):            #coontrol element in eq\n",
    "                    if y==x:\n",
    "                        del copy_matrix1[z][x]\n",
    "            \n",
    "            # print('\\nremaining matrix to decide if we need more recursion\\n**************\\n',copy_matrix1,'\\n*******************')\n",
    "            temp_sum = 0\n",
    "            # print(\"temp_sum before/reset :\" ,temp_sum)\n",
    "            last_det = Determinant_of_a_Matrix(copy_matrix1)\n",
    "            if y%2 ==0:\n",
    "                temp_sum = copy_matrix_first_row[y] * last_det\n",
    "            else:\n",
    "                temp_sum = -1*copy_matrix_first_row[y] * last_det\n",
    "            # print('y =',y,'\\t\\t',copy_matrix_first_row[y] ,' * ', last_det ,' = ',temp_sum , '  sum_determination = ',sum_determination)\n",
    "            sum_determination = sum_determination + temp_sum\n",
    "        # print(\"--------------------------------------------------------------------------------\")\n",
    "        # print('before\\t sum_determination : ',sum_determination,'\\t temp_sum :',temp_sum)\n",
    "        \n",
    "    # print('sum_determination : ',sum_determination,'\\t temp_sum :',temp_sum)\n",
    "    return sum_determination\n",
    "\n",
    "\n",
    "#---------------------------------------------------------------------#\n",
    "/\n",
    "print(\"deteremination of matrix :\", Determinant_of_a_Matrix(A))\n"
   ]
  },
  {
   "cell_type": "code",
   "execution_count": 243,
   "id": "b6161dcd-8621-4112-b955-96732dca52ef",
   "metadata": {},
   "outputs": [
    {
     "name": "stdout",
     "output_type": "stream",
     "text": [
      "0 = 3*6 18\n",
      "1 = 3*5 15\n",
      "1 = 3*4 12\n",
      "0 = 2*6 12\n",
      "1 = 2*5 10\n",
      "1 = 2*4 8\n",
      "0 = 1*6 6\n",
      "0 = 1*5 5\n",
      "0 = 1*4 4\n"
     ]
    },
    {
     "data": {
      "text/plain": [
       "[[1, 3, 6, 8], [0, 9, 1, 2], [0, 4, 5, 6]]"
      ]
     },
     "execution_count": 243,
     "metadata": {},
     "output_type": "execute_result"
    }
   ],
   "source": []
  },
  {
   "cell_type": "code",
   "execution_count": null,
   "id": "481cac96-e7c8-442e-b409-c7cc96d6c92a",
   "metadata": {},
   "outputs": [],
   "source": [
    "# [[18, 15, 12], [12, 10, 8], [6, 5, 4]]"
   ]
  }
 ],
 "metadata": {
  "kernelspec": {
   "display_name": "Python 3 (ipykernel)",
   "language": "python",
   "name": "python3"
  },
  "language_info": {
   "codemirror_mode": {
    "name": "ipython",
    "version": 3
   },
   "file_extension": ".py",
   "mimetype": "text/x-python",
   "name": "python",
   "nbconvert_exporter": "python",
   "pygments_lexer": "ipython3",
   "version": "3.11.7"
  }
 },
 "nbformat": 4,
 "nbformat_minor": 5
}
